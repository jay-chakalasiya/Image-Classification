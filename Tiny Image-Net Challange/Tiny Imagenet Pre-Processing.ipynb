{
 "cells": [
  {
   "cell_type": "code",
   "execution_count": 1,
   "metadata": {
    "collapsed": false
   },
   "outputs": [],
   "source": [
    "import re\n",
    "import os\n",
    "from scipy.ndimage import imread\n",
    "import matplotlib.image as mpimg\n",
    "from scipy.misc import imread as imreadgray\n",
    "import numpy as np"
   ]
  },
  {
   "cell_type": "markdown",
   "metadata": {},
   "source": [
    "### Image To Gray Scale"
   ]
  },
  {
   "cell_type": "code",
   "execution_count": 2,
   "metadata": {
    "collapsed": true
   },
   "outputs": [],
   "source": [
    "def rgb2gray(Image):\n",
    "    import numpy as np\n",
    "    Gray_const = np.array([0.2989,0.5870,0.1140])\n",
    "    grayscale = []\n",
    "    i=0\n",
    "    while i<64:\n",
    "        j=0\n",
    "        row=[]\n",
    "        while j<64:\n",
    "            row.append(int(np.sum(Image[i][j]*Gray_const)))\n",
    "            j+=1\n",
    "        grayscale.append(np.array(row))\n",
    "        i+=1\n",
    "    grayscale = np.array(grayscale)\n",
    "        \n",
    "    return grayscale"
   ]
  },
  {
   "cell_type": "markdown",
   "metadata": {},
   "source": [
    "### Gray Scale to RGB"
   ]
  },
  {
   "cell_type": "code",
   "execution_count": 3,
   "metadata": {
    "collapsed": false
   },
   "outputs": [],
   "source": [
    "def gray2rgb(Image):\n",
    "    import numpy as np\n",
    "    RGB = []\n",
    "    i=0\n",
    "    while i<64:\n",
    "        j=0\n",
    "        row=[]\n",
    "        while j<64:\n",
    "            ls = Image[i][j].tolist()\n",
    "            row.append(np.array([ls]*3))\n",
    "            j+=1\n",
    "        RGB.append(np.array(row))\n",
    "        i+=1\n",
    "    RGB = np.array(RGB)\n",
    "        \n",
    "    return RGB"
   ]
  },
  {
   "cell_type": "markdown",
   "metadata": {},
   "source": [
    "### Saving data"
   ]
  },
  {
   "cell_type": "code",
   "execution_count": 172,
   "metadata": {
    "collapsed": true
   },
   "outputs": [],
   "source": [
    "def pickle_data(train_x, train_y, Name):\n",
    "    import pickle\n",
    "    final_list = {'train_x':train_x, 'train_y':train_y}\n",
    "    with open(Name,'wb') as f:\n",
    "        pickle.dump(final_list,f)"
   ]
  },
  {
   "cell_type": "markdown",
   "metadata": {},
   "source": [
    "## Preproceess Data"
   ]
  },
  {
   "cell_type": "code",
   "execution_count": null,
   "metadata": {
    "collapsed": true
   },
   "outputs": [],
   "source": [
    "contents=os.listdir(\"tiny-imagenet-200/train\")\n",
    "train_xRGB=[]\n",
    "train_xGray=[]\n",
    "train_y  = []\n",
    "class_counter=0\n",
    "\n",
    "while class_counter<len(contents):\n",
    "    files=os.listdir(\"tiny-imagenet-200/train/\"+contents[class_counter]+\"/images\")\n",
    "    file_counter=0\n",
    "    while file_counter<len(files):\n",
    "        Image = mpimg.imread(\"tiny-imagenet-200/train/\"+contents[class_counter]+\"/images/\"+files[file_counter])\n",
    "        Image_Gray = imreadgray(\"tiny-imagenet-200/train/\"+contents[0]+\"/images/n01443537_0.JPEG\",'L')\n",
    "        \n",
    "        classes = [0]*len(contents)\n",
    "        classes[class_counter] = 1\n",
    "        train_y.append(np.array(classes))\n",
    "        \n",
    "        if Image.shape == (64,64,3):\n",
    "            train_xRGB.append(Image)\n",
    "        elif Image.shape == (64,64):\n",
    "            train_xRGB.append(gray2rgb(Image))\n",
    "            \n",
    "        train_xGray.append(Image_Gray)\n",
    "        file_counter+=1\n",
    "        \n",
    "    if class_counter%20 == 0:\n",
    "        print(str(class_counter*100/len(contents))+\"% Complete\")\n",
    "    class_counter+=1\n",
    "\n",
    "train_y = np.array(train_y)\n",
    "train_xRGB = np.array(train_xRGB)\n",
    "train_xGray = np.array(train_xGray)"
   ]
  },
  {
   "cell_type": "code",
   "execution_count": 162,
   "metadata": {
    "collapsed": true
   },
   "outputs": [],
   "source": [
    "def shuffle2geather(A,B,C):\n",
    "    import numpy as np\n",
    "    RNG_state = np.random.get_state()\n",
    "    np.random.shuffle(A)\n",
    "    np.random.set_state(RNG_state)\n",
    "    np.random.shuffle(B)\n",
    "    np.random.set_state(RNG_state)\n",
    "    np.random.shuffle(C)"
   ]
  },
  {
   "cell_type": "code",
   "execution_count": 164,
   "metadata": {
    "collapsed": false
   },
   "outputs": [],
   "source": [
    "shuffle2geather(train_xRGB,train_xGray,train_y)"
   ]
  },
  {
   "cell_type": "code",
   "execution_count": 175,
   "metadata": {
    "collapsed": false
   },
   "outputs": [],
   "source": [
    "pickle_data(train_xGray, train_y, \"tiny-image-Gray-dataset\")"
   ]
  },
  {
   "cell_type": "code",
   "execution_count": 182,
   "metadata": {
    "collapsed": false
   },
   "outputs": [],
   "source": [
    "pickle_data(train_xRGB[0:50000], train_y[0:50000], \"tiny-image-RGB-dataset-1\")"
   ]
  },
  {
   "cell_type": "code",
   "execution_count": 183,
   "metadata": {
    "collapsed": true
   },
   "outputs": [],
   "source": [
    "pickle_data(train_xRGB[50000:100000], train_y[0:50000], \"tiny-image-RGB-dataset-2\")"
   ]
  },
  {
   "cell_type": "code",
   "execution_count": null,
   "metadata": {
    "collapsed": true
   },
   "outputs": [],
   "source": []
  }
 ],
 "metadata": {
  "anaconda-cloud": {},
  "kernelspec": {
   "display_name": "Python [default]",
   "language": "python",
   "name": "python3"
  },
  "language_info": {
   "codemirror_mode": {
    "name": "ipython",
    "version": 3
   },
   "file_extension": ".py",
   "mimetype": "text/x-python",
   "name": "python",
   "nbconvert_exporter": "python",
   "pygments_lexer": "ipython3",
   "version": "3.5.2"
  }
 },
 "nbformat": 4,
 "nbformat_minor": 1
}
